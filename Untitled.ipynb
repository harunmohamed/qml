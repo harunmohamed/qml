{
 "cells": [
  {
   "cell_type": "code",
   "execution_count": 1,
   "id": "2efe3d41",
   "metadata": {},
   "outputs": [],
   "source": [
    "import pandas as pd\n",
    "import numpy as np\n",
    "import seaborn as sns\n",
    "import matplotlib.pyplot as plt"
   ]
  },
  {
   "cell_type": "code",
   "execution_count": 2,
   "id": "74483e5f",
   "metadata": {},
   "outputs": [],
   "source": [
    "data = pd.read_csv('https://raw.githubusercontent.com/CSSEGISandData/COVID-19/master/csse_covid_19_data/csse_covid_19_daily_reports_us/01-22-2021.csv')"
   ]
  },
  {
   "cell_type": "code",
   "execution_count": 3,
   "id": "f1b60a14",
   "metadata": {},
   "outputs": [
    {
     "data": {
      "text/html": [
       "<div>\n",
       "<style scoped>\n",
       "    .dataframe tbody tr th:only-of-type {\n",
       "        vertical-align: middle;\n",
       "    }\n",
       "\n",
       "    .dataframe tbody tr th {\n",
       "        vertical-align: top;\n",
       "    }\n",
       "\n",
       "    .dataframe thead th {\n",
       "        text-align: right;\n",
       "    }\n",
       "</style>\n",
       "<table border=\"1\" class=\"dataframe\">\n",
       "  <thead>\n",
       "    <tr style=\"text-align: right;\">\n",
       "      <th></th>\n",
       "      <th>Province_State</th>\n",
       "      <th>Country_Region</th>\n",
       "      <th>Last_Update</th>\n",
       "      <th>Lat</th>\n",
       "      <th>Long_</th>\n",
       "      <th>Confirmed</th>\n",
       "      <th>Deaths</th>\n",
       "      <th>Recovered</th>\n",
       "      <th>Active</th>\n",
       "      <th>FIPS</th>\n",
       "      <th>Incident_Rate</th>\n",
       "      <th>Total_Test_Results</th>\n",
       "      <th>People_Hospitalized</th>\n",
       "      <th>Case_Fatality_Ratio</th>\n",
       "      <th>UID</th>\n",
       "      <th>ISO3</th>\n",
       "      <th>Testing_Rate</th>\n",
       "      <th>Hospitalization_Rate</th>\n",
       "    </tr>\n",
       "  </thead>\n",
       "  <tbody>\n",
       "    <tr>\n",
       "      <th>0</th>\n",
       "      <td>Alabama</td>\n",
       "      <td>US</td>\n",
       "      <td>2021-01-23 05:30:27</td>\n",
       "      <td>32.3182</td>\n",
       "      <td>-86.9023</td>\n",
       "      <td>436087</td>\n",
       "      <td>6486</td>\n",
       "      <td>233211.0</td>\n",
       "      <td>196390.0</td>\n",
       "      <td>1.0</td>\n",
       "      <td>8893.953624</td>\n",
       "      <td>2066351.0</td>\n",
       "      <td>NaN</td>\n",
       "      <td>1.487318</td>\n",
       "      <td>84000001.0</td>\n",
       "      <td>USA</td>\n",
       "      <td>42143.035598</td>\n",
       "      <td>NaN</td>\n",
       "    </tr>\n",
       "    <tr>\n",
       "      <th>1</th>\n",
       "      <td>Alaska</td>\n",
       "      <td>US</td>\n",
       "      <td>2021-01-23 05:30:27</td>\n",
       "      <td>61.3707</td>\n",
       "      <td>-152.4044</td>\n",
       "      <td>52926</td>\n",
       "      <td>254</td>\n",
       "      <td>NaN</td>\n",
       "      <td>52647.0</td>\n",
       "      <td>2.0</td>\n",
       "      <td>7231.407501</td>\n",
       "      <td>1438958.0</td>\n",
       "      <td>NaN</td>\n",
       "      <td>0.480142</td>\n",
       "      <td>84000002.0</td>\n",
       "      <td>USA</td>\n",
       "      <td>196701.228222</td>\n",
       "      <td>NaN</td>\n",
       "    </tr>\n",
       "    <tr>\n",
       "      <th>2</th>\n",
       "      <td>American Samoa</td>\n",
       "      <td>US</td>\n",
       "      <td>2021-01-23 05:30:27</td>\n",
       "      <td>-14.2710</td>\n",
       "      <td>-170.1320</td>\n",
       "      <td>0</td>\n",
       "      <td>0</td>\n",
       "      <td>NaN</td>\n",
       "      <td>0.0</td>\n",
       "      <td>60.0</td>\n",
       "      <td>0.000000</td>\n",
       "      <td>2140.0</td>\n",
       "      <td>NaN</td>\n",
       "      <td>NaN</td>\n",
       "      <td>16.0</td>\n",
       "      <td>ASM</td>\n",
       "      <td>3846.084722</td>\n",
       "      <td>NaN</td>\n",
       "    </tr>\n",
       "    <tr>\n",
       "      <th>3</th>\n",
       "      <td>Arizona</td>\n",
       "      <td>US</td>\n",
       "      <td>2021-01-23 05:30:27</td>\n",
       "      <td>33.7298</td>\n",
       "      <td>-111.4312</td>\n",
       "      <td>708041</td>\n",
       "      <td>12001</td>\n",
       "      <td>96193.0</td>\n",
       "      <td>599847.0</td>\n",
       "      <td>4.0</td>\n",
       "      <td>9727.552260</td>\n",
       "      <td>6269091.0</td>\n",
       "      <td>NaN</td>\n",
       "      <td>1.694958</td>\n",
       "      <td>84000004.0</td>\n",
       "      <td>USA</td>\n",
       "      <td>45457.063381</td>\n",
       "      <td>NaN</td>\n",
       "    </tr>\n",
       "    <tr>\n",
       "      <th>4</th>\n",
       "      <td>Arkansas</td>\n",
       "      <td>US</td>\n",
       "      <td>2021-01-23 05:30:27</td>\n",
       "      <td>34.9697</td>\n",
       "      <td>-92.3731</td>\n",
       "      <td>281382</td>\n",
       "      <td>4549</td>\n",
       "      <td>256696.0</td>\n",
       "      <td>20137.0</td>\n",
       "      <td>5.0</td>\n",
       "      <td>9324.064784</td>\n",
       "      <td>2327428.0</td>\n",
       "      <td>NaN</td>\n",
       "      <td>1.616663</td>\n",
       "      <td>84000005.0</td>\n",
       "      <td>USA</td>\n",
       "      <td>77123.232655</td>\n",
       "      <td>NaN</td>\n",
       "    </tr>\n",
       "  </tbody>\n",
       "</table>\n",
       "</div>"
      ],
      "text/plain": [
       "   Province_State Country_Region          Last_Update      Lat     Long_  \\\n",
       "0         Alabama             US  2021-01-23 05:30:27  32.3182  -86.9023   \n",
       "1          Alaska             US  2021-01-23 05:30:27  61.3707 -152.4044   \n",
       "2  American Samoa             US  2021-01-23 05:30:27 -14.2710 -170.1320   \n",
       "3         Arizona             US  2021-01-23 05:30:27  33.7298 -111.4312   \n",
       "4        Arkansas             US  2021-01-23 05:30:27  34.9697  -92.3731   \n",
       "\n",
       "   Confirmed  Deaths  Recovered    Active  FIPS  Incident_Rate  \\\n",
       "0     436087    6486   233211.0  196390.0   1.0    8893.953624   \n",
       "1      52926     254        NaN   52647.0   2.0    7231.407501   \n",
       "2          0       0        NaN       0.0  60.0       0.000000   \n",
       "3     708041   12001    96193.0  599847.0   4.0    9727.552260   \n",
       "4     281382    4549   256696.0   20137.0   5.0    9324.064784   \n",
       "\n",
       "   Total_Test_Results  People_Hospitalized  Case_Fatality_Ratio         UID  \\\n",
       "0           2066351.0                  NaN             1.487318  84000001.0   \n",
       "1           1438958.0                  NaN             0.480142  84000002.0   \n",
       "2              2140.0                  NaN                  NaN        16.0   \n",
       "3           6269091.0                  NaN             1.694958  84000004.0   \n",
       "4           2327428.0                  NaN             1.616663  84000005.0   \n",
       "\n",
       "  ISO3   Testing_Rate  Hospitalization_Rate  \n",
       "0  USA   42143.035598                   NaN  \n",
       "1  USA  196701.228222                   NaN  \n",
       "2  ASM    3846.084722                   NaN  \n",
       "3  USA   45457.063381                   NaN  \n",
       "4  USA   77123.232655                   NaN  "
      ]
     },
     "execution_count": 3,
     "metadata": {},
     "output_type": "execute_result"
    }
   ],
   "source": [
    "data.head()"
   ]
  },
  {
   "cell_type": "code",
   "execution_count": 4,
   "id": "23ea4fcf",
   "metadata": {},
   "outputs": [
    {
     "data": {
      "text/plain": [
       "Index(['Province_State', 'Country_Region', 'Last_Update', 'Lat', 'Long_',\n",
       "       'Confirmed', 'Deaths', 'Recovered', 'Active', 'FIPS', 'Incident_Rate',\n",
       "       'Total_Test_Results', 'People_Hospitalized', 'Case_Fatality_Ratio',\n",
       "       'UID', 'ISO3', 'Testing_Rate', 'Hospitalization_Rate'],\n",
       "      dtype='object')"
      ]
     },
     "execution_count": 4,
     "metadata": {},
     "output_type": "execute_result"
    }
   ],
   "source": [
    "data.columns"
   ]
  },
  {
   "cell_type": "code",
   "execution_count": 5,
   "id": "f59e6df5",
   "metadata": {},
   "outputs": [
    {
     "data": {
      "text/html": [
       "<div>\n",
       "<style scoped>\n",
       "    .dataframe tbody tr th:only-of-type {\n",
       "        vertical-align: middle;\n",
       "    }\n",
       "\n",
       "    .dataframe tbody tr th {\n",
       "        vertical-align: top;\n",
       "    }\n",
       "\n",
       "    .dataframe thead th {\n",
       "        text-align: right;\n",
       "    }\n",
       "</style>\n",
       "<table border=\"1\" class=\"dataframe\">\n",
       "  <thead>\n",
       "    <tr style=\"text-align: right;\">\n",
       "      <th></th>\n",
       "      <th>Province_State</th>\n",
       "      <th>Country_Region</th>\n",
       "      <th>Last_Update</th>\n",
       "      <th>Lat</th>\n",
       "      <th>Long_</th>\n",
       "      <th>Confirmed</th>\n",
       "      <th>Deaths</th>\n",
       "      <th>Recovered</th>\n",
       "      <th>Active</th>\n",
       "      <th>FIPS</th>\n",
       "      <th>Incident_Rate</th>\n",
       "      <th>Total_Test_Results</th>\n",
       "      <th>People_Hospitalized</th>\n",
       "      <th>Case_Fatality_Ratio</th>\n",
       "      <th>UID</th>\n",
       "      <th>ISO3</th>\n",
       "      <th>Testing_Rate</th>\n",
       "      <th>Hospitalization_Rate</th>\n",
       "    </tr>\n",
       "  </thead>\n",
       "  <tbody>\n",
       "    <tr>\n",
       "      <th>53</th>\n",
       "      <td>Virginia</td>\n",
       "      <td>US</td>\n",
       "      <td>2021-01-23 05:30:27</td>\n",
       "      <td>37.7693</td>\n",
       "      <td>-78.1700</td>\n",
       "      <td>463751</td>\n",
       "      <td>6002</td>\n",
       "      <td>36577.0</td>\n",
       "      <td>421172.0</td>\n",
       "      <td>51.0</td>\n",
       "      <td>5433.190413</td>\n",
       "      <td>4948485.0</td>\n",
       "      <td>NaN</td>\n",
       "      <td>1.294229</td>\n",
       "      <td>84000051.0</td>\n",
       "      <td>USA</td>\n",
       "      <td>57975.209240</td>\n",
       "      <td>NaN</td>\n",
       "    </tr>\n",
       "    <tr>\n",
       "      <th>54</th>\n",
       "      <td>Washington</td>\n",
       "      <td>US</td>\n",
       "      <td>2021-01-23 05:30:27</td>\n",
       "      <td>47.4009</td>\n",
       "      <td>-121.4905</td>\n",
       "      <td>298249</td>\n",
       "      <td>4114</td>\n",
       "      <td>NaN</td>\n",
       "      <td>294135.0</td>\n",
       "      <td>53.0</td>\n",
       "      <td>3916.653852</td>\n",
       "      <td>4325798.0</td>\n",
       "      <td>NaN</td>\n",
       "      <td>1.379384</td>\n",
       "      <td>84000053.0</td>\n",
       "      <td>USA</td>\n",
       "      <td>56807.075293</td>\n",
       "      <td>NaN</td>\n",
       "    </tr>\n",
       "    <tr>\n",
       "      <th>55</th>\n",
       "      <td>West Virginia</td>\n",
       "      <td>US</td>\n",
       "      <td>2021-01-23 05:30:27</td>\n",
       "      <td>38.4912</td>\n",
       "      <td>-80.9545</td>\n",
       "      <td>113615</td>\n",
       "      <td>1856</td>\n",
       "      <td>86417.0</td>\n",
       "      <td>25342.0</td>\n",
       "      <td>54.0</td>\n",
       "      <td>6339.602722</td>\n",
       "      <td>1842666.0</td>\n",
       "      <td>NaN</td>\n",
       "      <td>1.633587</td>\n",
       "      <td>84000054.0</td>\n",
       "      <td>USA</td>\n",
       "      <td>102818.909386</td>\n",
       "      <td>NaN</td>\n",
       "    </tr>\n",
       "    <tr>\n",
       "      <th>56</th>\n",
       "      <td>Wisconsin</td>\n",
       "      <td>US</td>\n",
       "      <td>2021-01-23 05:30:27</td>\n",
       "      <td>44.2685</td>\n",
       "      <td>-89.6165</td>\n",
       "      <td>577991</td>\n",
       "      <td>6135</td>\n",
       "      <td>500685.0</td>\n",
       "      <td>71171.0</td>\n",
       "      <td>55.0</td>\n",
       "      <td>9926.965252</td>\n",
       "      <td>5937589.0</td>\n",
       "      <td>NaN</td>\n",
       "      <td>1.061435</td>\n",
       "      <td>84000055.0</td>\n",
       "      <td>USA</td>\n",
       "      <td>101977.781114</td>\n",
       "      <td>NaN</td>\n",
       "    </tr>\n",
       "    <tr>\n",
       "      <th>57</th>\n",
       "      <td>Wyoming</td>\n",
       "      <td>US</td>\n",
       "      <td>2021-01-23 05:30:27</td>\n",
       "      <td>42.7560</td>\n",
       "      <td>-107.3025</td>\n",
       "      <td>50583</td>\n",
       "      <td>571</td>\n",
       "      <td>48316.0</td>\n",
       "      <td>1696.0</td>\n",
       "      <td>56.0</td>\n",
       "      <td>8739.907284</td>\n",
       "      <td>573868.0</td>\n",
       "      <td>NaN</td>\n",
       "      <td>1.128838</td>\n",
       "      <td>84000056.0</td>\n",
       "      <td>USA</td>\n",
       "      <td>99154.915949</td>\n",
       "      <td>NaN</td>\n",
       "    </tr>\n",
       "  </tbody>\n",
       "</table>\n",
       "</div>"
      ],
      "text/plain": [
       "   Province_State Country_Region          Last_Update      Lat     Long_  \\\n",
       "53       Virginia             US  2021-01-23 05:30:27  37.7693  -78.1700   \n",
       "54     Washington             US  2021-01-23 05:30:27  47.4009 -121.4905   \n",
       "55  West Virginia             US  2021-01-23 05:30:27  38.4912  -80.9545   \n",
       "56      Wisconsin             US  2021-01-23 05:30:27  44.2685  -89.6165   \n",
       "57        Wyoming             US  2021-01-23 05:30:27  42.7560 -107.3025   \n",
       "\n",
       "    Confirmed  Deaths  Recovered    Active  FIPS  Incident_Rate  \\\n",
       "53     463751    6002    36577.0  421172.0  51.0    5433.190413   \n",
       "54     298249    4114        NaN  294135.0  53.0    3916.653852   \n",
       "55     113615    1856    86417.0   25342.0  54.0    6339.602722   \n",
       "56     577991    6135   500685.0   71171.0  55.0    9926.965252   \n",
       "57      50583     571    48316.0    1696.0  56.0    8739.907284   \n",
       "\n",
       "    Total_Test_Results  People_Hospitalized  Case_Fatality_Ratio         UID  \\\n",
       "53           4948485.0                  NaN             1.294229  84000051.0   \n",
       "54           4325798.0                  NaN             1.379384  84000053.0   \n",
       "55           1842666.0                  NaN             1.633587  84000054.0   \n",
       "56           5937589.0                  NaN             1.061435  84000055.0   \n",
       "57            573868.0                  NaN             1.128838  84000056.0   \n",
       "\n",
       "   ISO3   Testing_Rate  Hospitalization_Rate  \n",
       "53  USA   57975.209240                   NaN  \n",
       "54  USA   56807.075293                   NaN  \n",
       "55  USA  102818.909386                   NaN  \n",
       "56  USA  101977.781114                   NaN  \n",
       "57  USA   99154.915949                   NaN  "
      ]
     },
     "execution_count": 5,
     "metadata": {},
     "output_type": "execute_result"
    }
   ],
   "source": [
    "data.tail()"
   ]
  },
  {
   "cell_type": "code",
   "execution_count": 6,
   "id": "bbe855dd",
   "metadata": {},
   "outputs": [
    {
     "data": {
      "text/html": [
       "<div>\n",
       "<style scoped>\n",
       "    .dataframe tbody tr th:only-of-type {\n",
       "        vertical-align: middle;\n",
       "    }\n",
       "\n",
       "    .dataframe tbody tr th {\n",
       "        vertical-align: top;\n",
       "    }\n",
       "\n",
       "    .dataframe thead th {\n",
       "        text-align: right;\n",
       "    }\n",
       "</style>\n",
       "<table border=\"1\" class=\"dataframe\">\n",
       "  <thead>\n",
       "    <tr style=\"text-align: right;\">\n",
       "      <th></th>\n",
       "      <th>Lat</th>\n",
       "      <th>Long_</th>\n",
       "      <th>Confirmed</th>\n",
       "      <th>Deaths</th>\n",
       "      <th>Recovered</th>\n",
       "      <th>Active</th>\n",
       "      <th>FIPS</th>\n",
       "      <th>Incident_Rate</th>\n",
       "      <th>Total_Test_Results</th>\n",
       "      <th>People_Hospitalized</th>\n",
       "      <th>Case_Fatality_Ratio</th>\n",
       "      <th>UID</th>\n",
       "      <th>Testing_Rate</th>\n",
       "      <th>Hospitalization_Rate</th>\n",
       "    </tr>\n",
       "  </thead>\n",
       "  <tbody>\n",
       "    <tr>\n",
       "      <th>count</th>\n",
       "      <td>56.000000</td>\n",
       "      <td>56.000000</td>\n",
       "      <td>5.800000e+01</td>\n",
       "      <td>58.000000</td>\n",
       "      <td>4.400000e+01</td>\n",
       "      <td>5.800000e+01</td>\n",
       "      <td>58.000000</td>\n",
       "      <td>56.000000</td>\n",
       "      <td>5.600000e+01</td>\n",
       "      <td>0.0</td>\n",
       "      <td>57.000000</td>\n",
       "      <td>5.800000e+01</td>\n",
       "      <td>56.000000</td>\n",
       "      <td>0.0</td>\n",
       "    </tr>\n",
       "    <tr>\n",
       "      <th>mean</th>\n",
       "      <td>36.840089</td>\n",
       "      <td>-85.206614</td>\n",
       "      <td>4.293809e+05</td>\n",
       "      <td>7270.241379</td>\n",
       "      <td>2.242274e+05</td>\n",
       "      <td>2.507190e+05</td>\n",
       "      <td>3288.086207</td>\n",
       "      <td>7084.108279</td>\n",
       "      <td>5.282787e+06</td>\n",
       "      <td>NaN</td>\n",
       "      <td>1.599230</td>\n",
       "      <td>7.676194e+07</td>\n",
       "      <td>87276.764398</td>\n",
       "      <td>NaN</td>\n",
       "    </tr>\n",
       "    <tr>\n",
       "      <th>std</th>\n",
       "      <td>10.887035</td>\n",
       "      <td>49.754449</td>\n",
       "      <td>5.552075e+05</td>\n",
       "      <td>9343.234780</td>\n",
       "      <td>3.133663e+05</td>\n",
       "      <td>4.908995e+05</td>\n",
       "      <td>17408.350591</td>\n",
       "      <td>2787.388239</td>\n",
       "      <td>7.145279e+06</td>\n",
       "      <td>NaN</td>\n",
       "      <td>0.636384</td>\n",
       "      <td>2.378302e+07</td>\n",
       "      <td>44453.286530</td>\n",
       "      <td>NaN</td>\n",
       "    </tr>\n",
       "    <tr>\n",
       "      <th>min</th>\n",
       "      <td>-14.271000</td>\n",
       "      <td>-170.132000</td>\n",
       "      <td>0.000000e+00</td>\n",
       "      <td>0.000000</td>\n",
       "      <td>2.900000e+01</td>\n",
       "      <td>0.000000e+00</td>\n",
       "      <td>1.000000</td>\n",
       "      <td>0.000000</td>\n",
       "      <td>2.140000e+03</td>\n",
       "      <td>NaN</td>\n",
       "      <td>0.000000</td>\n",
       "      <td>1.600000e+01</td>\n",
       "      <td>3846.084722</td>\n",
       "      <td>NaN</td>\n",
       "    </tr>\n",
       "    <tr>\n",
       "      <th>25%</th>\n",
       "      <td>34.594600</td>\n",
       "      <td>-101.165775</td>\n",
       "      <td>8.972375e+04</td>\n",
       "      <td>1296.000000</td>\n",
       "      <td>3.349550e+04</td>\n",
       "      <td>1.535500e+04</td>\n",
       "      <td>18.250000</td>\n",
       "      <td>5860.977554</td>\n",
       "      <td>1.180210e+06</td>\n",
       "      <td>NaN</td>\n",
       "      <td>1.250557</td>\n",
       "      <td>8.400001e+07</td>\n",
       "      <td>57447.191936</td>\n",
       "      <td>NaN</td>\n",
       "    </tr>\n",
       "    <tr>\n",
       "      <th>50%</th>\n",
       "      <td>39.061850</td>\n",
       "      <td>-87.944200</td>\n",
       "      <td>2.898155e+05</td>\n",
       "      <td>4036.000000</td>\n",
       "      <td>9.508650e+04</td>\n",
       "      <td>7.237550e+04</td>\n",
       "      <td>32.500000</td>\n",
       "      <td>7602.866626</td>\n",
       "      <td>2.766943e+06</td>\n",
       "      <td>NaN</td>\n",
       "      <td>1.488670</td>\n",
       "      <td>8.400003e+07</td>\n",
       "      <td>82079.932399</td>\n",
       "      <td>NaN</td>\n",
       "    </tr>\n",
       "    <tr>\n",
       "      <th>75%</th>\n",
       "      <td>42.361650</td>\n",
       "      <td>-76.970625</td>\n",
       "      <td>5.620472e+05</td>\n",
       "      <td>8478.250000</td>\n",
       "      <td>3.226382e+05</td>\n",
       "      <td>2.631748e+05</td>\n",
       "      <td>47.750000</td>\n",
       "      <td>8887.963397</td>\n",
       "      <td>6.240881e+06</td>\n",
       "      <td>NaN</td>\n",
       "      <td>1.834485</td>\n",
       "      <td>8.400004e+07</td>\n",
       "      <td>102817.621834</td>\n",
       "      <td>NaN</td>\n",
       "    </tr>\n",
       "    <tr>\n",
       "      <th>max</th>\n",
       "      <td>61.370700</td>\n",
       "      <td>145.673900</td>\n",
       "      <td>3.147207e+06</td>\n",
       "      <td>41786.000000</td>\n",
       "      <td>1.785578e+06</td>\n",
       "      <td>3.088058e+06</td>\n",
       "      <td>99999.000000</td>\n",
       "      <td>12671.541161</td>\n",
       "      <td>3.972584e+07</td>\n",
       "      <td>NaN</td>\n",
       "      <td>3.209618</td>\n",
       "      <td>8.410000e+07</td>\n",
       "      <td>223071.360943</td>\n",
       "      <td>NaN</td>\n",
       "    </tr>\n",
       "  </tbody>\n",
       "</table>\n",
       "</div>"
      ],
      "text/plain": [
       "             Lat       Long_     Confirmed        Deaths     Recovered  \\\n",
       "count  56.000000   56.000000  5.800000e+01     58.000000  4.400000e+01   \n",
       "mean   36.840089  -85.206614  4.293809e+05   7270.241379  2.242274e+05   \n",
       "std    10.887035   49.754449  5.552075e+05   9343.234780  3.133663e+05   \n",
       "min   -14.271000 -170.132000  0.000000e+00      0.000000  2.900000e+01   \n",
       "25%    34.594600 -101.165775  8.972375e+04   1296.000000  3.349550e+04   \n",
       "50%    39.061850  -87.944200  2.898155e+05   4036.000000  9.508650e+04   \n",
       "75%    42.361650  -76.970625  5.620472e+05   8478.250000  3.226382e+05   \n",
       "max    61.370700  145.673900  3.147207e+06  41786.000000  1.785578e+06   \n",
       "\n",
       "             Active          FIPS  Incident_Rate  Total_Test_Results  \\\n",
       "count  5.800000e+01     58.000000      56.000000        5.600000e+01   \n",
       "mean   2.507190e+05   3288.086207    7084.108279        5.282787e+06   \n",
       "std    4.908995e+05  17408.350591    2787.388239        7.145279e+06   \n",
       "min    0.000000e+00      1.000000       0.000000        2.140000e+03   \n",
       "25%    1.535500e+04     18.250000    5860.977554        1.180210e+06   \n",
       "50%    7.237550e+04     32.500000    7602.866626        2.766943e+06   \n",
       "75%    2.631748e+05     47.750000    8887.963397        6.240881e+06   \n",
       "max    3.088058e+06  99999.000000   12671.541161        3.972584e+07   \n",
       "\n",
       "       People_Hospitalized  Case_Fatality_Ratio           UID   Testing_Rate  \\\n",
       "count                  0.0            57.000000  5.800000e+01      56.000000   \n",
       "mean                   NaN             1.599230  7.676194e+07   87276.764398   \n",
       "std                    NaN             0.636384  2.378302e+07   44453.286530   \n",
       "min                    NaN             0.000000  1.600000e+01    3846.084722   \n",
       "25%                    NaN             1.250557  8.400001e+07   57447.191936   \n",
       "50%                    NaN             1.488670  8.400003e+07   82079.932399   \n",
       "75%                    NaN             1.834485  8.400004e+07  102817.621834   \n",
       "max                    NaN             3.209618  8.410000e+07  223071.360943   \n",
       "\n",
       "       Hospitalization_Rate  \n",
       "count                   0.0  \n",
       "mean                    NaN  \n",
       "std                     NaN  \n",
       "min                     NaN  \n",
       "25%                     NaN  \n",
       "50%                     NaN  \n",
       "75%                     NaN  \n",
       "max                     NaN  "
      ]
     },
     "execution_count": 6,
     "metadata": {},
     "output_type": "execute_result"
    }
   ],
   "source": [
    "data.describe()"
   ]
  },
  {
   "cell_type": "code",
   "execution_count": 7,
   "id": "96d7fd40",
   "metadata": {},
   "outputs": [
    {
     "data": {
      "text/plain": [
       "Province_State           0\n",
       "Country_Region           0\n",
       "Last_Update              0\n",
       "Lat                      2\n",
       "Long_                    2\n",
       "Confirmed                0\n",
       "Deaths                   0\n",
       "Recovered               14\n",
       "Active                   0\n",
       "FIPS                     0\n",
       "Incident_Rate            2\n",
       "Total_Test_Results       2\n",
       "People_Hospitalized     58\n",
       "Case_Fatality_Ratio      1\n",
       "UID                      0\n",
       "ISO3                     0\n",
       "Testing_Rate             2\n",
       "Hospitalization_Rate    58\n",
       "dtype: int64"
      ]
     },
     "execution_count": 7,
     "metadata": {},
     "output_type": "execute_result"
    }
   ],
   "source": [
    "data.isnull().sum()"
   ]
  },
  {
   "cell_type": "code",
   "execution_count": 8,
   "id": "797ccc5f",
   "metadata": {},
   "outputs": [
    {
     "data": {
      "text/plain": [
       "<seaborn.axisgrid.FacetGrid at 0x7f432bf07cd0>"
      ]
     },
     "execution_count": 8,
     "metadata": {},
     "output_type": "execute_result"
    },
    {
     "data": {
      "image/png": "[encoded data removed]",
      "text/plain": [
       "<Figure size 360x360 with 1 Axes>"
      ]
     },
     "metadata": {
      "needs_background": "light"
     },
     "output_type": "display_data"
    }
   ],
   "source": [
    "sns.relplot(x='Total_Test_Results', y='Confirmed', data=data)"
   ]
  },
  {
   "cell_type": "code",
   "execution_count": 9,
   "id": "03790e14",
   "metadata": {},
   "outputs": [
    {
     "data": {
      "text/plain": [
       "Index(['Province_State', 'Country_Region', 'Last_Update', 'Lat', 'Long_',\n",
       "       'Confirmed', 'Deaths', 'Recovered', 'Active', 'FIPS', 'Incident_Rate',\n",
       "       'Total_Test_Results', 'People_Hospitalized', 'Case_Fatality_Ratio',\n",
       "       'UID', 'ISO3', 'Testing_Rate', 'Hospitalization_Rate'],\n",
       "      dtype='object')"
      ]
     },
     "execution_count": 9,
     "metadata": {},
     "output_type": "execute_result"
    }
   ],
   "source": [
    "data.columns"
   ]
  },
  {
   "cell_type": "code",
   "execution_count": 10,
   "id": "d4cdefbc",
   "metadata": {},
   "outputs": [
    {
     "data": {
      "text/plain": [
       "<seaborn.axisgrid.FacetGrid at 0x7f4328468e90>"
      ]
     },
     "execution_count": 10,
     "metadata": {},
     "output_type": "execute_result"
    },
    {
     "data": {
      "image/png": "[encoded data removed]",
      "text/plain": [
       "<Figure size 360x360 with 1 Axes>"
      ]
     },
     "metadata": {
      "needs_background": "light"
     },
     "output_type": "display_data"
    }
   ],
   "source": [
    "sns.relplot(x='Total_Test_Results', y='Confirmed', data=data, kind='line')"
   ]
  },
  {
   "cell_type": "code",
   "execution_count": 11,
   "id": "c79fc8c4",
   "metadata": {},
   "outputs": [
    {
     "data": {
      "text/plain": [
       "Index(['Province_State', 'Country_Region', 'Last_Update', 'Lat', 'Long_',\n",
       "       'Confirmed', 'Deaths', 'Recovered', 'Active', 'FIPS', 'Incident_Rate',\n",
       "       'Total_Test_Results', 'People_Hospitalized', 'Case_Fatality_Ratio',\n",
       "       'UID', 'ISO3', 'Testing_Rate', 'Hospitalization_Rate'],\n",
       "      dtype='object')"
      ]
     },
     "execution_count": 11,
     "metadata": {},
     "output_type": "execute_result"
    }
   ],
   "source": [
    "data.columns"
   ]
  },
  {
   "cell_type": "code",
   "execution_count": 23,
   "id": "9c14cb38",
   "metadata": {},
   "outputs": [
    {
     "data": {
      "text/plain": [
       "<matplotlib.collections.PathCollection at 0x7f4327a64250>"
      ]
     },
     "execution_count": 23,
     "metadata": {},
     "output_type": "execute_result"
    },
    {
     "data": {
      "image/png": "[encoded data removed]",
      "text/plain": [
       "<Figure size 432x288 with 1 Axes>"
      ]
     },
     "metadata": {
      "needs_background": "light"
     },
     "output_type": "display_data"
    }
   ],
   "source": [
    "plt.scatter(x='Testing_Rate', y='Confirmed', data=data)"
   ]
  },
  {
   "cell_type": "code",
   "execution_count": 24,
   "id": "667ce03b",
   "metadata": {},
   "outputs": [
    {
     "data": {
      "text/plain": [
       "Index(['Province_State', 'Country_Region', 'Last_Update', 'Lat', 'Long_',\n",
       "       'Confirmed', 'Deaths', 'Recovered', 'Active', 'FIPS', 'Incident_Rate',\n",
       "       'Total_Test_Results', 'People_Hospitalized', 'Case_Fatality_Ratio',\n",
       "       'UID', 'ISO3', 'Testing_Rate', 'Hospitalization_Rate'],\n",
       "      dtype='object')"
      ]
     },
     "execution_count": 24,
     "metadata": {},
     "output_type": "execute_result"
    }
   ],
   "source": [
    "data.columns"
   ]
  },
  {
   "cell_type": "code",
   "execution_count": 27,
   "id": "c5c557d1",
   "metadata": {},
   "outputs": [],
   "source": [
    "pv = pd.pivot_table(data, index= 'Confirmed', values = ['Active', 'Deaths'])"
   ]
  },
  {
   "cell_type": "code",
   "execution_count": 28,
   "id": "3e75f224",
   "metadata": {},
   "outputs": [
    {
     "data": {
      "text/html": [
       "<div>\n",
       "<style scoped>\n",
       "    .dataframe tbody tr th:only-of-type {\n",
       "        vertical-align: middle;\n",
       "    }\n",
       "\n",
       "    .dataframe tbody tr th {\n",
       "        vertical-align: top;\n",
       "    }\n",
       "\n",
       "    .dataframe thead th {\n",
       "        text-align: right;\n",
       "    }\n",
       "</style>\n",
       "<table border=\"1\" class=\"dataframe\">\n",
       "  <thead>\n",
       "    <tr style=\"text-align: right;\">\n",
       "      <th></th>\n",
       "      <th>Active</th>\n",
       "      <th>Deaths</th>\n",
       "    </tr>\n",
       "    <tr>\n",
       "      <th>Confirmed</th>\n",
       "      <th></th>\n",
       "      <th></th>\n",
       "    </tr>\n",
       "  </thead>\n",
       "  <tbody>\n",
       "    <tr>\n",
       "      <th>0</th>\n",
       "      <td>0.0</td>\n",
       "      <td>0</td>\n",
       "    </tr>\n",
       "    <tr>\n",
       "      <th>49</th>\n",
       "      <td>49.0</td>\n",
       "      <td>0</td>\n",
       "    </tr>\n",
       "    <tr>\n",
       "      <th>103</th>\n",
       "      <td>100.0</td>\n",
       "      <td>3</td>\n",
       "    </tr>\n",
       "    <tr>\n",
       "      <th>129</th>\n",
       "      <td>98.0</td>\n",
       "      <td>2</td>\n",
       "    </tr>\n",
       "    <tr>\n",
       "      <th>2321</th>\n",
       "      <td>107.0</td>\n",
       "      <td>24</td>\n",
       "    </tr>\n",
       "  </tbody>\n",
       "</table>\n",
       "</div>"
      ],
      "text/plain": [
       "           Active  Deaths\n",
       "Confirmed                \n",
       "0             0.0       0\n",
       "49           49.0       0\n",
       "103         100.0       3\n",
       "129          98.0       2\n",
       "2321        107.0      24"
      ]
     },
     "execution_count": 28,
     "metadata": {},
     "output_type": "execute_result"
    }
   ],
   "source": [
    "pv.head()"
   ]
  },
  {
   "cell_type": "code",
   "execution_count": null,
   "id": "2720517d",
   "metadata": {},
   "outputs": [],
   "source": []
  }
 ],
 "metadata": {
  "kernelspec": {
   "display_name": "Python 3 (ipykernel)",
   "language": "python",
   "name": "python3"
  },
  "language_info": {
   "codemirror_mode": {
    "name": "ipython",
    "version": 3
   },
   "file_extension": ".py",
   "mimetype": "text/x-python",
   "name": "python",
   "nbconvert_exporter": "python",
   "pygments_lexer": "ipython3",
   "version": "3.7.11"
  }
 },
 "nbformat": 4,
 "nbformat_minor": 5
}
